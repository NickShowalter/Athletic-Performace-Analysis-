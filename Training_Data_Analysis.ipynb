{
 "cells": [
  {
   "cell_type": "markdown",
   "source": [
    "# Introduction:\n",
    "\n",
    "In the realm of personal fitness and training, harnessing the power of data has become indispensable for enthusiasts and athletes alike. This analysis delves into an individual's training journey, leveraging the wealth of information provided by the Garmin Connect app. By employing Python as the analytical tool, we embark on a comprehensive exploration of training data to decipher patterns, milestones, and overall progress.\n",
    "\n",
    "The Garmin Connect app, known for its precision in capturing various aspects of workouts, provides a rich dataset encompassing metrics such as heart rate, distance, pace, elevation, and more. This analysis aims to extract actionable insights, shedding light on the nuances of the individual's training regimen.\n",
    "\n",
    "Throughout this exploration, we will employ Python's versatile data manipulation and analysis libraries, with a primary focus on Pandas for data handling and Matplotlib/Seaborn for visualization. From examining day-to-day variations to identifying trends over extended periods, our approach is tailored to empower individuals with a holistic understanding of their fitness evolution.\n",
    "\n",
    "Join us as we unravel the layers of personal training data, utilizing Python's analytical prowess to transform raw numbers into meaningful narratives. Through this journey, the individual can gain valuable insights, make informed adjustments to their training routines, and celebrate the milestones achieved in their pursuit of peak fitness. \n",
    "\n",
    "Let the analysis begin, where data becomes the compass guiding us through the intricate landscape of personal progress in the world of fitness.\n",
    "\n",
    "\n",
    "The Analysis will be constructed as follows:\n",
    "\n",
    "Structural analysis: Understanding the dataset \n",
    "\n",
    "Data cleaning: Remove any null or duplicate values\n",
    "\n",
    "High level visualizations: Visualize some of the key areas within the training data. Counts per activity, Paces during sessions, Most prevalent training time frames (hours, days, weeks, months), heart rate, other intricies per activity (e.g. ascents, swim metrics, \n",
    "\n",
    "Projections \n",
    "\n",
    "Recommendations\n",
    "\n",
    "The goal of the analysis is to get a better understanding of the intriciies of the users training program and to make suggestions backed by data to enhance their overall fitness and performance results. "
   ],
   "metadata": {
    "collapsed": false
   },
   "id": "b643fdfa1a0ba7e8"
  },
  {
   "cell_type": "markdown",
   "source": [
    "# Structural Analysis \n",
    "\n",
    "In this section we will dive deeper into the inner working of the dataset. We will look to understand how the data is curated, what types of columns we can focus on and check to see if we need to do any cleaning. "
   ],
   "metadata": {
    "collapsed": false
   },
   "id": "469581ab42ea17c"
  },
  {
   "cell_type": "code",
   "execution_count": 25,
   "id": "initial_id",
   "metadata": {
    "collapsed": true,
    "ExecuteTime": {
     "end_time": "2024-02-15T18:43:01.961444Z",
     "start_time": "2024-02-15T18:43:01.703527Z"
    }
   },
   "outputs": [
    {
     "name": "stdout",
     "output_type": "stream",
     "text": [
      "      Activity Type                 Date  Favorite                   Title  \\\n",
      "0           Cycling  2024-02-03 12:52:41     False       Vancouver Cycling   \n",
      "1           Running  2024-02-02 08:38:01     False       Vancouver Running   \n",
      "2           Running  2024-01-31 10:02:11     False            Bend Running   \n",
      "3      Road Cycling  2024-01-30 12:41:29     False       Bend Road Cycling   \n",
      "4      Road Cycling  2024-01-29 12:05:52     False       Bend Road Cycling   \n",
      "..              ...                  ...       ...                     ...   \n",
      "863  Indoor Cycling  2021-11-29 10:06:57     False          Indoor Cycling   \n",
      "864    Road Cycling  2021-11-24 11:55:54     False  Hillsboro Road Cycling   \n",
      "865  Indoor Cycling  2021-11-23 20:56:06     False          Indoor Cycling   \n",
      "866  Indoor Cycling  2021-11-22 18:23:06     False          Indoor Cycling   \n",
      "867    Road Cycling  2021-11-21 12:58:47     False  Hillsboro Road Cycling   \n",
      "\n",
      "    Distance Calories      Time  Avg HR  Max HR Aerobic TE  ... Decompression  \\\n",
      "0       1.33      143  00:18:23     101     134        0.7  ...            No   \n",
      "1       3.35      282  00:24:57     135     160        2.9  ...            No   \n",
      "2       4.80      445  00:38:22     138     167        3.0  ...            No   \n",
      "3      20.12    1,128  01:06:38       0       0         --  ...            No   \n",
      "4      21.42    1,150  01:25:11       0       0         --  ...            No   \n",
      "..       ...      ...       ...     ...     ...        ...  ...           ...   \n",
      "863     0.00       --  01:00:03       0       0         --  ...            No   \n",
      "864    23.57    1,372  01:35:24       0       0         --  ...            No   \n",
      "865     0.00       --  00:21:18       0       0         --  ...            No   \n",
      "866     0.00       --  00:22:02       0       0         --  ...            No   \n",
      "867    21.14    1,206  01:21:40       0       0         --  ...            No   \n",
      "\n",
      "    Best Lap Time Number of Laps Max Temp Distance.1 Total Descent.1  \\\n",
      "0        18:23.30              1     68.0       1.33              33   \n",
      "1        02:54.34              4     77.0       3.35              95   \n",
      "2        01:11.51              8     82.4       4.80             102   \n",
      "3        00:45.71              5     68.0      20.12             719   \n",
      "4        12:12.91              5     73.4      21.42             748   \n",
      "..            ...            ...      ...        ...             ...   \n",
      "863   01:00:02.59              1     71.6       0.00              --   \n",
      "864      02:55.76              6     57.2      23.57           1,463   \n",
      "865      21:17.86              1     64.4       0.00              --   \n",
      "866      22:01.89              1     68.0       0.00              --   \n",
      "867      04:29.20              5     59.0      21.14           1,053   \n",
      "\n",
      "     Moving Time  Elapsed Time  Min Elevation  Max Elevation  \n",
      "0       00:12:23      00:18:23             58             83  \n",
      "1       00:24:47      00:30:36             65            157  \n",
      "2       00:38:20      00:51:27          3,434          3,496  \n",
      "3       01:06:27      01:12:48          3,194          3,558  \n",
      "4       01:23:54      01:38:26          3,415          3,697  \n",
      "..           ...           ...            ...            ...  \n",
      "863     00:00:00      01:00:03            390            400  \n",
      "864     01:35:15      01:38:04            232            713  \n",
      "865     00:00:00      00:21:20            273            278  \n",
      "866     00:00:00      00:22:02            577            591  \n",
      "867     01:21:33      01:23:05            241            588  \n",
      "\n",
      "[868 rows x 47 columns]\n"
     ]
    }
   ],
   "source": [
    "#Lets load in the dataset \n",
    "import pandas as pd \n",
    "\n",
    "\n",
    "file_path = '/Users/nickshowalter/Downloads/Activities (1).csv'\n",
    "\n",
    "# Use pandas to read the CSV file into a DataFrame\n",
    "try:\n",
    "    df = pd.read_csv(file_path)\n",
    "    # Now you can work with the DataFrame (df) as needed\n",
    "    print(df.head())  # Display the first few rows of the DataFrame\n",
    "except FileNotFoundError:\n",
    "    print(f\"File not found: {file_path}\")\n",
    "except pd.errors.EmptyDataError:\n",
    "    print(f\"The file {file_path} is empty or contains only headers.\")\n",
    "except pd.errors.ParserError as e:\n",
    "    print(f\"Error parsing the CSV file: {e}\")\n",
    "    \n"
   ]
  },
  {
   "cell_type": "code",
   "execution_count": 26,
   "outputs": [
    {
     "data": {
      "text/plain": "      Activity Type                 Date  Favorite                   Title  \\\n0           Cycling  2024-02-03 12:52:41     False       Vancouver Cycling   \n1           Running  2024-02-02 08:38:01     False       Vancouver Running   \n2           Running  2024-01-31 10:02:11     False            Bend Running   \n3      Road Cycling  2024-01-30 12:41:29     False       Bend Road Cycling   \n4      Road Cycling  2024-01-29 12:05:52     False       Bend Road Cycling   \n..              ...                  ...       ...                     ...   \n863  Indoor Cycling  2021-11-29 10:06:57     False          Indoor Cycling   \n864    Road Cycling  2021-11-24 11:55:54     False  Hillsboro Road Cycling   \n865  Indoor Cycling  2021-11-23 20:56:06     False          Indoor Cycling   \n866  Indoor Cycling  2021-11-22 18:23:06     False          Indoor Cycling   \n867    Road Cycling  2021-11-21 12:58:47     False  Hillsboro Road Cycling   \n\n    Distance Calories      Time  Avg HR  Max HR Aerobic TE  ... Decompression  \\\n0       1.33      143  00:18:23     101     134        0.7  ...            No   \n1       3.35      282  00:24:57     135     160        2.9  ...            No   \n2       4.80      445  00:38:22     138     167        3.0  ...            No   \n3      20.12    1,128  01:06:38       0       0         --  ...            No   \n4      21.42    1,150  01:25:11       0       0         --  ...            No   \n..       ...      ...       ...     ...     ...        ...  ...           ...   \n863     0.00       --  01:00:03       0       0         --  ...            No   \n864    23.57    1,372  01:35:24       0       0         --  ...            No   \n865     0.00       --  00:21:18       0       0         --  ...            No   \n866     0.00       --  00:22:02       0       0         --  ...            No   \n867    21.14    1,206  01:21:40       0       0         --  ...            No   \n\n    Best Lap Time Number of Laps Max Temp Distance.1 Total Descent.1  \\\n0        18:23.30              1     68.0       1.33              33   \n1        02:54.34              4     77.0       3.35              95   \n2        01:11.51              8     82.4       4.80             102   \n3        00:45.71              5     68.0      20.12             719   \n4        12:12.91              5     73.4      21.42             748   \n..            ...            ...      ...        ...             ...   \n863   01:00:02.59              1     71.6       0.00              --   \n864      02:55.76              6     57.2      23.57           1,463   \n865      21:17.86              1     64.4       0.00              --   \n866      22:01.89              1     68.0       0.00              --   \n867      04:29.20              5     59.0      21.14           1,053   \n\n     Moving Time  Elapsed Time  Min Elevation  Max Elevation  \n0       00:12:23      00:18:23             58             83  \n1       00:24:47      00:30:36             65            157  \n2       00:38:20      00:51:27          3,434          3,496  \n3       01:06:27      01:12:48          3,194          3,558  \n4       01:23:54      01:38:26          3,415          3,697  \n..           ...           ...            ...            ...  \n863     00:00:00      01:00:03            390            400  \n864     01:35:15      01:38:04            232            713  \n865     00:00:00      00:21:20            273            278  \n866     00:00:00      00:22:02            577            591  \n867     01:21:33      01:23:05            241            588  \n\n[868 rows x 47 columns]",
      "text/html": "<div>\n<style scoped>\n    .dataframe tbody tr th:only-of-type {\n        vertical-align: middle;\n    }\n\n    .dataframe tbody tr th {\n        vertical-align: top;\n    }\n\n    .dataframe thead th {\n        text-align: right;\n    }\n</style>\n<table border=\"1\" class=\"dataframe\">\n  <thead>\n    <tr style=\"text-align: right;\">\n      <th></th>\n      <th>Activity Type</th>\n      <th>Date</th>\n      <th>Favorite</th>\n      <th>Title</th>\n      <th>Distance</th>\n      <th>Calories</th>\n      <th>Time</th>\n      <th>Avg HR</th>\n      <th>Max HR</th>\n      <th>Aerobic TE</th>\n      <th>...</th>\n      <th>Decompression</th>\n      <th>Best Lap Time</th>\n      <th>Number of Laps</th>\n      <th>Max Temp</th>\n      <th>Distance.1</th>\n      <th>Total Descent.1</th>\n      <th>Moving Time</th>\n      <th>Elapsed Time</th>\n      <th>Min Elevation</th>\n      <th>Max Elevation</th>\n    </tr>\n  </thead>\n  <tbody>\n    <tr>\n      <th>0</th>\n      <td>Cycling</td>\n      <td>2024-02-03 12:52:41</td>\n      <td>False</td>\n      <td>Vancouver Cycling</td>\n      <td>1.33</td>\n      <td>143</td>\n      <td>00:18:23</td>\n      <td>101</td>\n      <td>134</td>\n      <td>0.7</td>\n      <td>...</td>\n      <td>No</td>\n      <td>18:23.30</td>\n      <td>1</td>\n      <td>68.0</td>\n      <td>1.33</td>\n      <td>33</td>\n      <td>00:12:23</td>\n      <td>00:18:23</td>\n      <td>58</td>\n      <td>83</td>\n    </tr>\n    <tr>\n      <th>1</th>\n      <td>Running</td>\n      <td>2024-02-02 08:38:01</td>\n      <td>False</td>\n      <td>Vancouver Running</td>\n      <td>3.35</td>\n      <td>282</td>\n      <td>00:24:57</td>\n      <td>135</td>\n      <td>160</td>\n      <td>2.9</td>\n      <td>...</td>\n      <td>No</td>\n      <td>02:54.34</td>\n      <td>4</td>\n      <td>77.0</td>\n      <td>3.35</td>\n      <td>95</td>\n      <td>00:24:47</td>\n      <td>00:30:36</td>\n      <td>65</td>\n      <td>157</td>\n    </tr>\n    <tr>\n      <th>2</th>\n      <td>Running</td>\n      <td>2024-01-31 10:02:11</td>\n      <td>False</td>\n      <td>Bend Running</td>\n      <td>4.80</td>\n      <td>445</td>\n      <td>00:38:22</td>\n      <td>138</td>\n      <td>167</td>\n      <td>3.0</td>\n      <td>...</td>\n      <td>No</td>\n      <td>01:11.51</td>\n      <td>8</td>\n      <td>82.4</td>\n      <td>4.80</td>\n      <td>102</td>\n      <td>00:38:20</td>\n      <td>00:51:27</td>\n      <td>3,434</td>\n      <td>3,496</td>\n    </tr>\n    <tr>\n      <th>3</th>\n      <td>Road Cycling</td>\n      <td>2024-01-30 12:41:29</td>\n      <td>False</td>\n      <td>Bend Road Cycling</td>\n      <td>20.12</td>\n      <td>1,128</td>\n      <td>01:06:38</td>\n      <td>0</td>\n      <td>0</td>\n      <td>--</td>\n      <td>...</td>\n      <td>No</td>\n      <td>00:45.71</td>\n      <td>5</td>\n      <td>68.0</td>\n      <td>20.12</td>\n      <td>719</td>\n      <td>01:06:27</td>\n      <td>01:12:48</td>\n      <td>3,194</td>\n      <td>3,558</td>\n    </tr>\n    <tr>\n      <th>4</th>\n      <td>Road Cycling</td>\n      <td>2024-01-29 12:05:52</td>\n      <td>False</td>\n      <td>Bend Road Cycling</td>\n      <td>21.42</td>\n      <td>1,150</td>\n      <td>01:25:11</td>\n      <td>0</td>\n      <td>0</td>\n      <td>--</td>\n      <td>...</td>\n      <td>No</td>\n      <td>12:12.91</td>\n      <td>5</td>\n      <td>73.4</td>\n      <td>21.42</td>\n      <td>748</td>\n      <td>01:23:54</td>\n      <td>01:38:26</td>\n      <td>3,415</td>\n      <td>3,697</td>\n    </tr>\n    <tr>\n      <th>...</th>\n      <td>...</td>\n      <td>...</td>\n      <td>...</td>\n      <td>...</td>\n      <td>...</td>\n      <td>...</td>\n      <td>...</td>\n      <td>...</td>\n      <td>...</td>\n      <td>...</td>\n      <td>...</td>\n      <td>...</td>\n      <td>...</td>\n      <td>...</td>\n      <td>...</td>\n      <td>...</td>\n      <td>...</td>\n      <td>...</td>\n      <td>...</td>\n      <td>...</td>\n      <td>...</td>\n    </tr>\n    <tr>\n      <th>863</th>\n      <td>Indoor Cycling</td>\n      <td>2021-11-29 10:06:57</td>\n      <td>False</td>\n      <td>Indoor Cycling</td>\n      <td>0.00</td>\n      <td>--</td>\n      <td>01:00:03</td>\n      <td>0</td>\n      <td>0</td>\n      <td>--</td>\n      <td>...</td>\n      <td>No</td>\n      <td>01:00:02.59</td>\n      <td>1</td>\n      <td>71.6</td>\n      <td>0.00</td>\n      <td>--</td>\n      <td>00:00:00</td>\n      <td>01:00:03</td>\n      <td>390</td>\n      <td>400</td>\n    </tr>\n    <tr>\n      <th>864</th>\n      <td>Road Cycling</td>\n      <td>2021-11-24 11:55:54</td>\n      <td>False</td>\n      <td>Hillsboro Road Cycling</td>\n      <td>23.57</td>\n      <td>1,372</td>\n      <td>01:35:24</td>\n      <td>0</td>\n      <td>0</td>\n      <td>--</td>\n      <td>...</td>\n      <td>No</td>\n      <td>02:55.76</td>\n      <td>6</td>\n      <td>57.2</td>\n      <td>23.57</td>\n      <td>1,463</td>\n      <td>01:35:15</td>\n      <td>01:38:04</td>\n      <td>232</td>\n      <td>713</td>\n    </tr>\n    <tr>\n      <th>865</th>\n      <td>Indoor Cycling</td>\n      <td>2021-11-23 20:56:06</td>\n      <td>False</td>\n      <td>Indoor Cycling</td>\n      <td>0.00</td>\n      <td>--</td>\n      <td>00:21:18</td>\n      <td>0</td>\n      <td>0</td>\n      <td>--</td>\n      <td>...</td>\n      <td>No</td>\n      <td>21:17.86</td>\n      <td>1</td>\n      <td>64.4</td>\n      <td>0.00</td>\n      <td>--</td>\n      <td>00:00:00</td>\n      <td>00:21:20</td>\n      <td>273</td>\n      <td>278</td>\n    </tr>\n    <tr>\n      <th>866</th>\n      <td>Indoor Cycling</td>\n      <td>2021-11-22 18:23:06</td>\n      <td>False</td>\n      <td>Indoor Cycling</td>\n      <td>0.00</td>\n      <td>--</td>\n      <td>00:22:02</td>\n      <td>0</td>\n      <td>0</td>\n      <td>--</td>\n      <td>...</td>\n      <td>No</td>\n      <td>22:01.89</td>\n      <td>1</td>\n      <td>68.0</td>\n      <td>0.00</td>\n      <td>--</td>\n      <td>00:00:00</td>\n      <td>00:22:02</td>\n      <td>577</td>\n      <td>591</td>\n    </tr>\n    <tr>\n      <th>867</th>\n      <td>Road Cycling</td>\n      <td>2021-11-21 12:58:47</td>\n      <td>False</td>\n      <td>Hillsboro Road Cycling</td>\n      <td>21.14</td>\n      <td>1,206</td>\n      <td>01:21:40</td>\n      <td>0</td>\n      <td>0</td>\n      <td>--</td>\n      <td>...</td>\n      <td>No</td>\n      <td>04:29.20</td>\n      <td>5</td>\n      <td>59.0</td>\n      <td>21.14</td>\n      <td>1,053</td>\n      <td>01:21:33</td>\n      <td>01:23:05</td>\n      <td>241</td>\n      <td>588</td>\n    </tr>\n  </tbody>\n</table>\n<p>868 rows × 47 columns</p>\n</div>"
     },
     "execution_count": 26,
     "metadata": {},
     "output_type": "execute_result"
    }
   ],
   "source": [
    "df"
   ],
   "metadata": {
    "collapsed": false,
    "ExecuteTime": {
     "end_time": "2024-02-15T18:44:01.371453Z",
     "start_time": "2024-02-15T18:44:01.347146Z"
    }
   },
   "id": "cc370a30340f95cc"
  },
  {
   "cell_type": "code",
   "execution_count": 4,
   "outputs": [
    {
     "data": {
      "text/plain": "array([[<Axes: title={'center': 'Avg HR'}>,\n        <Axes: title={'center': 'Max HR'}>,\n        <Axes: title={'center': 'Avg Stride Length'}>,\n        <Axes: title={'center': 'Avg Vertical Ratio'}>],\n       [<Axes: title={'center': 'Avg Vertical Oscillation'}>,\n        <Axes: title={'center': 'Avg Ground Contact Time'}>,\n        <Axes: title={'center': 'Training Stress Score®'}>,\n        <Axes: title={'center': 'Avg Power'}>],\n       [<Axes: title={'center': 'Grit'}>,\n        <Axes: title={'center': 'Flow'}>,\n        <Axes: title={'center': 'Min Temp'}>,\n        <Axes: title={'center': 'Number of Laps'}>],\n       [<Axes: title={'center': 'Max Temp'}>, <Axes: >, <Axes: >,\n        <Axes: >]], dtype=object)"
     },
     "execution_count": 4,
     "metadata": {},
     "output_type": "execute_result"
    },
    {
     "data": {
      "text/plain": "<Figure size 640x480 with 16 Axes>",
      "image/png": "[encoded data removed]"
     },
     "metadata": {},
     "output_type": "display_data"
    }
   ],
   "source": [
    "df.hist()"
   ],
   "metadata": {
    "collapsed": false,
    "ExecuteTime": {
     "end_time": "2024-02-13T20:00:34.577552Z",
     "start_time": "2024-02-13T20:00:32.880130Z"
    }
   },
   "id": "bf777b0f7601371f"
  },
  {
   "cell_type": "code",
   "execution_count": 5,
   "outputs": [
    {
     "data": {
      "text/plain": "           Avg HR      Max HR  Avg Stride Length  Avg Vertical Ratio  \\\ncount  868.000000  868.000000         868.000000               868.0   \nmean    75.967742   89.286866           0.531624                 0.0   \nstd     68.125987   78.530003           0.660647                 0.0   \nmin      0.000000    0.000000           0.000000                 0.0   \n25%      0.000000    0.000000           0.000000                 0.0   \n50%    109.500000  141.000000           0.000000                 0.0   \n75%    142.000000  162.000000           1.280000                 0.0   \nmax    175.000000  190.000000           2.070000                 0.0   \n\n       Avg Vertical Oscillation  Avg Ground Contact Time  \\\ncount                     868.0                    868.0   \nmean                        0.0                      0.0   \nstd                         0.0                      0.0   \nmin                         0.0                      0.0   \n25%                         0.0                      0.0   \n50%                         0.0                      0.0   \n75%                         0.0                      0.0   \nmax                         0.0                      0.0   \n\n       Training Stress Score®   Avg Power   Grit   Flow    Min Temp  \\\ncount              868.000000  868.000000  868.0  868.0  868.000000   \nmean                 0.216359   24.647465    0.0    0.0   72.727880   \nstd                  6.374347   61.993099    0.0    0.0   14.182667   \nmin                  0.000000    0.000000    0.0    0.0    0.000000   \n25%                  0.000000    0.000000    0.0    0.0   66.200000   \n50%                  0.000000    0.000000    0.0    0.0   78.800000   \n75%                  0.000000    0.000000    0.0    0.0   82.400000   \nmax                187.800000  284.000000    0.0    0.0   95.000000   \n\n       Number of Laps    Max Temp  \ncount      868.000000  868.000000  \nmean        10.080645   80.701382  \nstd         12.530211   13.296548  \nmin          1.000000    0.000000  \n25%          2.000000   78.800000  \n50%          5.000000   82.400000  \n75%         11.000000   87.800000  \nmax         84.000000  104.000000  ",
      "text/html": "<div>\n<style scoped>\n    .dataframe tbody tr th:only-of-type {\n        vertical-align: middle;\n    }\n\n    .dataframe tbody tr th {\n        vertical-align: top;\n    }\n\n    .dataframe thead th {\n        text-align: right;\n    }\n</style>\n<table border=\"1\" class=\"dataframe\">\n  <thead>\n    <tr style=\"text-align: right;\">\n      <th></th>\n      <th>Avg HR</th>\n      <th>Max HR</th>\n      <th>Avg Stride Length</th>\n      <th>Avg Vertical Ratio</th>\n      <th>Avg Vertical Oscillation</th>\n      <th>Avg Ground Contact Time</th>\n      <th>Training Stress Score®</th>\n      <th>Avg Power</th>\n      <th>Grit</th>\n      <th>Flow</th>\n      <th>Min Temp</th>\n      <th>Number of Laps</th>\n      <th>Max Temp</th>\n    </tr>\n  </thead>\n  <tbody>\n    <tr>\n      <th>count</th>\n      <td>868.000000</td>\n      <td>868.000000</td>\n      <td>868.000000</td>\n      <td>868.0</td>\n      <td>868.0</td>\n      <td>868.0</td>\n      <td>868.000000</td>\n      <td>868.000000</td>\n      <td>868.0</td>\n      <td>868.0</td>\n      <td>868.000000</td>\n      <td>868.000000</td>\n      <td>868.000000</td>\n    </tr>\n    <tr>\n      <th>mean</th>\n      <td>75.967742</td>\n      <td>89.286866</td>\n      <td>0.531624</td>\n      <td>0.0</td>\n      <td>0.0</td>\n      <td>0.0</td>\n      <td>0.216359</td>\n      <td>24.647465</td>\n      <td>0.0</td>\n      <td>0.0</td>\n      <td>72.727880</td>\n      <td>10.080645</td>\n      <td>80.701382</td>\n    </tr>\n    <tr>\n      <th>std</th>\n      <td>68.125987</td>\n      <td>78.530003</td>\n      <td>0.660647</td>\n      <td>0.0</td>\n      <td>0.0</td>\n      <td>0.0</td>\n      <td>6.374347</td>\n      <td>61.993099</td>\n      <td>0.0</td>\n      <td>0.0</td>\n      <td>14.182667</td>\n      <td>12.530211</td>\n      <td>13.296548</td>\n    </tr>\n    <tr>\n      <th>min</th>\n      <td>0.000000</td>\n      <td>0.000000</td>\n      <td>0.000000</td>\n      <td>0.0</td>\n      <td>0.0</td>\n      <td>0.0</td>\n      <td>0.000000</td>\n      <td>0.000000</td>\n      <td>0.0</td>\n      <td>0.0</td>\n      <td>0.000000</td>\n      <td>1.000000</td>\n      <td>0.000000</td>\n    </tr>\n    <tr>\n      <th>25%</th>\n      <td>0.000000</td>\n      <td>0.000000</td>\n      <td>0.000000</td>\n      <td>0.0</td>\n      <td>0.0</td>\n      <td>0.0</td>\n      <td>0.000000</td>\n      <td>0.000000</td>\n      <td>0.0</td>\n      <td>0.0</td>\n      <td>66.200000</td>\n      <td>2.000000</td>\n      <td>78.800000</td>\n    </tr>\n    <tr>\n      <th>50%</th>\n      <td>109.500000</td>\n      <td>141.000000</td>\n      <td>0.000000</td>\n      <td>0.0</td>\n      <td>0.0</td>\n      <td>0.0</td>\n      <td>0.000000</td>\n      <td>0.000000</td>\n      <td>0.0</td>\n      <td>0.0</td>\n      <td>78.800000</td>\n      <td>5.000000</td>\n      <td>82.400000</td>\n    </tr>\n    <tr>\n      <th>75%</th>\n      <td>142.000000</td>\n      <td>162.000000</td>\n      <td>1.280000</td>\n      <td>0.0</td>\n      <td>0.0</td>\n      <td>0.0</td>\n      <td>0.000000</td>\n      <td>0.000000</td>\n      <td>0.0</td>\n      <td>0.0</td>\n      <td>82.400000</td>\n      <td>11.000000</td>\n      <td>87.800000</td>\n    </tr>\n    <tr>\n      <th>max</th>\n      <td>175.000000</td>\n      <td>190.000000</td>\n      <td>2.070000</td>\n      <td>0.0</td>\n      <td>0.0</td>\n      <td>0.0</td>\n      <td>187.800000</td>\n      <td>284.000000</td>\n      <td>0.0</td>\n      <td>0.0</td>\n      <td>95.000000</td>\n      <td>84.000000</td>\n      <td>104.000000</td>\n    </tr>\n  </tbody>\n</table>\n</div>"
     },
     "execution_count": 5,
     "metadata": {},
     "output_type": "execute_result"
    }
   ],
   "source": [
    "df.describe()"
   ],
   "metadata": {
    "collapsed": false,
    "ExecuteTime": {
     "end_time": "2024-02-13T20:00:34.595583Z",
     "start_time": "2024-02-13T20:00:34.577261Z"
    }
   },
   "id": "5fb4c5aad52ca3bd"
  },
  {
   "cell_type": "code",
   "execution_count": 6,
   "outputs": [
    {
     "name": "stdout",
     "output_type": "stream",
     "text": [
      "<class 'pandas.core.frame.DataFrame'>\n",
      "RangeIndex: 868 entries, 0 to 867\n",
      "Data columns (total 47 columns):\n",
      " #   Column                    Non-Null Count  Dtype  \n",
      "---  ------                    --------------  -----  \n",
      " 0   Activity Type             868 non-null    object \n",
      " 1   Date                      868 non-null    object \n",
      " 2   Favorite                  868 non-null    bool   \n",
      " 3   Title                     868 non-null    object \n",
      " 4   Distance                  868 non-null    object \n",
      " 5   Calories                  868 non-null    object \n",
      " 6   Time                      868 non-null    object \n",
      " 7   Avg HR                    868 non-null    int64  \n",
      " 8   Max HR                    868 non-null    int64  \n",
      " 9   Aerobic TE                868 non-null    object \n",
      " 10  Avg Bike Cadence          868 non-null    object \n",
      " 11  Max Bike Cadence          868 non-null    object \n",
      " 12  Avg Speed                 868 non-null    object \n",
      " 13  Max Speed                 868 non-null    object \n",
      " 14  Total Ascent              868 non-null    object \n",
      " 15  Total Descent             868 non-null    object \n",
      " 16  Avg Stride Length         868 non-null    float64\n",
      " 17  Avg Vertical Ratio        868 non-null    float64\n",
      " 18  Avg Vertical Oscillation  868 non-null    float64\n",
      " 19  Avg Ground Contact Time   868 non-null    int64  \n",
      " 20  Avg Bike Cadence.1        868 non-null    object \n",
      " 21  Max Bike Cadence.1        868 non-null    object \n",
      " 22  Normalized Power® (NP®)   868 non-null    object \n",
      " 23  Training Stress Score®    868 non-null    float64\n",
      " 24  Max Avg Power (20 min)    868 non-null    object \n",
      " 25  Avg Power                 868 non-null    int64  \n",
      " 26  Max Power                 868 non-null    object \n",
      " 27  Grit                      868 non-null    float64\n",
      " 28  Flow                      868 non-null    float64\n",
      " 29  Total Strokes             868 non-null    object \n",
      " 30  Avg. Swolf                868 non-null    object \n",
      " 31  Avg Stroke Rate           868 non-null    object \n",
      " 32  Total Reps                868 non-null    object \n",
      " 33  Total Sets                868 non-null    object \n",
      " 34  Dive Time                 868 non-null    object \n",
      " 35  Min Temp                  868 non-null    float64\n",
      " 36  Surface Interval          868 non-null    object \n",
      " 37  Decompression             868 non-null    object \n",
      " 38  Best Lap Time             868 non-null    object \n",
      " 39  Number of Laps            868 non-null    int64  \n",
      " 40  Max Temp                  868 non-null    float64\n",
      " 41  Distance.1                868 non-null    object \n",
      " 42  Total Descent.1           868 non-null    object \n",
      " 43  Moving Time               868 non-null    object \n",
      " 44  Elapsed Time              868 non-null    object \n",
      " 45  Min Elevation             868 non-null    object \n",
      " 46  Max Elevation             868 non-null    object \n",
      "dtypes: bool(1), float64(8), int64(5), object(33)\n",
      "memory usage: 312.9+ KB\n"
     ]
    }
   ],
   "source": [
    "#lets view all the columns and what types of Data types \n",
    "df.info(\n",
    ")"
   ],
   "metadata": {
    "collapsed": false,
    "ExecuteTime": {
     "end_time": "2024-02-13T20:00:34.716239Z",
     "start_time": "2024-02-13T20:00:34.593758Z"
    }
   },
   "id": "45d987aa94bb8287"
  },
  {
   "cell_type": "code",
   "execution_count": 19,
   "outputs": [
    {
     "data": {
      "text/plain": "<bound method DataFrame.corr of       Activity Type                 Date  Favorite                   Title  \\\n0           Cycling  2024-02-03 12:52:41     False       Vancouver Cycling   \n1           Running  2024-02-02 08:38:01     False       Vancouver Running   \n2           Running  2024-01-31 10:02:11     False            Bend Running   \n3      Road Cycling  2024-01-30 12:41:29     False       Bend Road Cycling   \n4      Road Cycling  2024-01-29 12:05:52     False       Bend Road Cycling   \n..              ...                  ...       ...                     ...   \n863  Indoor Cycling  2021-11-29 10:06:57     False          Indoor Cycling   \n864    Road Cycling  2021-11-24 11:55:54     False  Hillsboro Road Cycling   \n865  Indoor Cycling  2021-11-23 20:56:06     False          Indoor Cycling   \n866  Indoor Cycling  2021-11-22 18:23:06     False          Indoor Cycling   \n867    Road Cycling  2021-11-21 12:58:47     False  Hillsboro Road Cycling   \n\n    Distance Calories      Time  Avg HR  Max HR Aerobic TE  ... Decompression  \\\n0       1.33      143  00:18:23     101     134        0.7  ...            No   \n1       3.35      282  00:24:57     135     160        2.9  ...            No   \n2       4.80      445  00:38:22     138     167        3.0  ...            No   \n3      20.12    1,128  01:06:38       0       0         --  ...            No   \n4      21.42    1,150  01:25:11       0       0         --  ...            No   \n..       ...      ...       ...     ...     ...        ...  ...           ...   \n863     0.00       --  01:00:03       0       0         --  ...            No   \n864    23.57    1,372  01:35:24       0       0         --  ...            No   \n865     0.00       --  00:21:18       0       0         --  ...            No   \n866     0.00       --  00:22:02       0       0         --  ...            No   \n867    21.14    1,206  01:21:40       0       0         --  ...            No   \n\n    Best Lap Time Number of Laps Max Temp Distance.1 Total Descent.1  \\\n0        18:23.30              1     68.0       1.33              33   \n1        02:54.34              4     77.0       3.35              95   \n2        01:11.51              8     82.4       4.80             102   \n3        00:45.71              5     68.0      20.12             719   \n4        12:12.91              5     73.4      21.42             748   \n..            ...            ...      ...        ...             ...   \n863   01:00:02.59              1     71.6       0.00              --   \n864      02:55.76              6     57.2      23.57           1,463   \n865      21:17.86              1     64.4       0.00              --   \n866      22:01.89              1     68.0       0.00              --   \n867      04:29.20              5     59.0      21.14           1,053   \n\n     Moving Time  Elapsed Time  Min Elevation  Max Elevation  \n0       00:12:23      00:18:23             58             83  \n1       00:24:47      00:30:36             65            157  \n2       00:38:20      00:51:27          3,434          3,496  \n3       01:06:27      01:12:48          3,194          3,558  \n4       01:23:54      01:38:26          3,415          3,697  \n..           ...           ...            ...            ...  \n863     00:00:00      01:00:03            390            400  \n864     01:35:15      01:38:04            232            713  \n865     00:00:00      00:21:20            273            278  \n866     00:00:00      00:22:02            577            591  \n867     01:21:33      01:23:05            241            588  \n\n[868 rows x 47 columns]>"
     },
     "execution_count": 19,
     "metadata": {},
     "output_type": "execute_result"
    }
   ],
   "source": [
    "df.corr"
   ],
   "metadata": {
    "collapsed": false,
    "ExecuteTime": {
     "end_time": "2024-02-15T00:50:50.300478Z",
     "start_time": "2024-02-15T00:50:50.283418Z"
    }
   },
   "id": "2df912bbbbd46d4c"
  },
  {
   "cell_type": "code",
   "execution_count": 22,
   "outputs": [
    {
     "data": {
      "text/plain": "Activity Type               0\nDate                        0\nFavorite                    0\nTitle                       0\nDistance                    0\nCalories                    0\nTime                        0\nAvg HR                      0\nMax HR                      0\nAerobic TE                  0\nAvg Bike Cadence            0\nMax Bike Cadence            0\nAvg Speed                   0\nMax Speed                   0\nTotal Ascent                0\nTotal Descent               0\nAvg Stride Length           0\nAvg Vertical Ratio          0\nAvg Vertical Oscillation    0\nAvg Ground Contact Time     0\nAvg Bike Cadence.1          0\nMax Bike Cadence.1          0\nNormalized Power® (NP®)     0\nTraining Stress Score®      0\nMax Avg Power (20 min)      0\nAvg Power                   0\nMax Power                   0\nGrit                        0\nFlow                        0\nTotal Strokes               0\nAvg. Swolf                  0\nAvg Stroke Rate             0\nTotal Reps                  0\nTotal Sets                  0\nDive Time                   0\nMin Temp                    0\nSurface Interval            0\nDecompression               0\nBest Lap Time               0\nNumber of Laps              0\nMax Temp                    0\nDistance.1                  0\nTotal Descent.1             0\nMoving Time                 0\nElapsed Time                0\nMin Elevation               0\nMax Elevation               0\ndtype: int64"
     },
     "execution_count": 22,
     "metadata": {},
     "output_type": "execute_result"
    }
   ],
   "source": [
    "df.isnull().sum()"
   ],
   "metadata": {
    "collapsed": false,
    "ExecuteTime": {
     "end_time": "2024-02-15T00:51:59.527169Z",
     "start_time": "2024-02-15T00:51:59.517402Z"
    }
   },
   "id": "67f8c320d7634dc"
  },
  {
   "cell_type": "code",
   "execution_count": 12,
   "outputs": [
    {
     "data": {
      "text/plain": "array(['Cycling', 'Running', 'Road Cycling', 'Strength Training', 'Yoga',\n       'Pool Swimming', 'Treadmill Running', 'Indoor Cycling',\n       'Open Water Swimming', 'Rowing', 'Hiking', 'Cardio', 'Kayaking',\n       'Gym & Fitness Equipment', 'Multisport', 'Swimming'], dtype=object)"
     },
     "execution_count": 12,
     "metadata": {},
     "output_type": "execute_result"
    }
   ],
   "source": [
    "#Lets look at all the unique activities \n",
    "unique_activity_types = df['Activity Type'].unique()\n",
    "\n",
    "unique_activity_types"
   ],
   "metadata": {
    "collapsed": false,
    "ExecuteTime": {
     "end_time": "2024-02-15T00:42:50.971844Z",
     "start_time": "2024-02-15T00:42:50.916754Z"
    }
   },
   "id": "6bab2859faaf2022"
  },
  {
   "cell_type": "code",
   "execution_count": 18,
   "outputs": [
    {
     "name": "stdout",
     "output_type": "stream",
     "text": [
      "Activity counts:\n",
      "Activity Name\n",
      "Cycling       2\n",
      "Multisport    1\n",
      "Running       1\n",
      "Swimming      1\n",
      "dtype: int64\n"
     ]
    },
    {
     "data": {
      "text/plain": "  Activity Name\n0       Running\n1      Swimming\n2    Multisport\n3       Cycling\n4       Cycling",
      "text/html": "<div>\n<style scoped>\n    .dataframe tbody tr th:only-of-type {\n        vertical-align: middle;\n    }\n\n    .dataframe tbody tr th {\n        vertical-align: top;\n    }\n\n    .dataframe thead th {\n        text-align: right;\n    }\n</style>\n<table border=\"1\" class=\"dataframe\">\n  <thead>\n    <tr style=\"text-align: right;\">\n      <th></th>\n      <th>Activity Name</th>\n    </tr>\n  </thead>\n  <tbody>\n    <tr>\n      <th>0</th>\n      <td>Running</td>\n    </tr>\n    <tr>\n      <th>1</th>\n      <td>Swimming</td>\n    </tr>\n    <tr>\n      <th>2</th>\n      <td>Multisport</td>\n    </tr>\n    <tr>\n      <th>3</th>\n      <td>Cycling</td>\n    </tr>\n    <tr>\n      <th>4</th>\n      <td>Cycling</td>\n    </tr>\n  </tbody>\n</table>\n</div>"
     },
     "execution_count": 18,
     "metadata": {},
     "output_type": "execute_result"
    }
   ],
   "source": [
    "# Lets count all the instances where the activity type i\n",
    "\n",
    "activity_count = pd.DataFrame({'Activity Name': ['Running', 'Swimming', 'Multisport', 'Cycling']})\n",
    "\n",
    "# Group by activity name and count occurrences\n",
    "activity_counts = activity_count.groupby('Activity Name').size()\n",
    "\n",
    "print(\"Activity counts:\")\n",
    "print(activity_counts)\n",
    "activity_count\n"
   ],
   "metadata": {
    "collapsed": false,
    "ExecuteTime": {
     "end_time": "2024-02-15T00:50:14.607131Z",
     "start_time": "2024-02-15T00:50:14.581591Z"
    }
   },
   "id": "ab06ca19a94c70f9"
  },
  {
   "cell_type": "code",
   "execution_count": 17,
   "outputs": [
    {
     "name": "stdout",
     "output_type": "stream",
     "text": [
      "Activity counts:\n",
      "Activity Name\n",
      "Cycling       2\n",
      "Running       1\n",
      "Swimming      1\n",
      "Multisport    1\n",
      "Name: count, dtype: int64\n"
     ]
    }
   ],
   "source": [
    "activity1 = pd.DataFrame({'Activity Name': ['Running', 'Swimming', 'Multisport', 'Cycling', 'Cycling']})\n",
    "\n",
    "# Count occurrences of each activity name\n",
    "activity_counts = activity1['Activity Name'].value_counts()\n",
    "\n",
    "print(\"Activity counts:\")\n",
    "print(activity_counts)"
   ],
   "metadata": {
    "collapsed": false,
    "ExecuteTime": {
     "end_time": "2024-02-15T00:47:02.631987Z",
     "start_time": "2024-02-15T00:47:02.610078Z"
    }
   },
   "id": "40b4e3226e0c7b08"
  },
  {
   "cell_type": "code",
   "execution_count": null,
   "outputs": [],
   "source": [],
   "metadata": {
    "collapsed": false
   },
   "id": "36ace822e8ae9b6a"
  }
 ],
 "metadata": {
  "kernelspec": {
   "display_name": "Python 3",
   "language": "python",
   "name": "python3"
  },
  "language_info": {
   "codemirror_mode": {
    "name": "ipython",
    "version": 2
   },
   "file_extension": ".py",
   "mimetype": "text/x-python",
   "name": "python",
   "nbconvert_exporter": "python",
   "pygments_lexer": "ipython2",
   "version": "2.7.6"
  }
 },
 "nbformat": 4,
 "nbformat_minor": 5
}
