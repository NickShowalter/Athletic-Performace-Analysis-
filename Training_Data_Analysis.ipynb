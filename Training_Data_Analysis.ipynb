{
 "cells": [
  {
   "cell_type": "markdown",
   "source": [
    "# Introduction:\n",
    "\n",
    "In the realm of personal fitness and training, harnessing the power of data has become indispensable for enthusiasts and athletes alike. This analysis delves into an individual's training journey, leveraging the wealth of information provided by the Garmin Connect app. By employing Python as the analytical tool, we embark on a comprehensive exploration of training data to decipher patterns, milestones, and overall progress.\n",
    "\n",
    "The Garmin Connect app, known for its precision in capturing various aspects of workouts, provides a rich dataset encompassing metrics such as heart rate, distance, pace, elevation, and more. This analysis aims to extract actionable insights, shedding light on the nuances of the individual's training regimen.\n",
    "\n",
    "Throughout this exploration, we will employ Python's versatile data manipulation and analysis libraries, with a primary focus on Pandas for data handling and Matplotlib/Seaborn for visualization. From examining day-to-day variations to identifying trends over extended periods, our approach is tailored to empower individuals with a holistic understanding of their fitness evolution.\n",
    "\n",
    "Join us as we unravel the layers of personal training data, utilizing Python's analytical prowess to transform raw numbers into meaningful narratives. Through this journey, the individual can gain valuable insights, make informed adjustments to their training routines, and celebrate the milestones achieved in their pursuit of peak fitness. \n",
    "\n",
    "Let the analysis begin, where data becomes the compass guiding us through the intricate landscape of personal progress in the world of fitness.\n",
    "\n",
    "The Analysis will be constructed as follows\n",
    "\n",
    "Structural analysis\n",
    "\n",
    "Data cleaning\n",
    "\n",
    "High level visualization per disipline \n",
    "\n",
    "Projections \n",
    "\n",
    "Recommendations\n",
    "\n",
    "The goal of the analysis is to get a better understanding of the intriciies of the users training program and to make suggestions backed by data to enhance their overall fitness and performance results. "
   ],
   "metadata": {
    "collapsed": false
   },
   "id": "b643fdfa1a0ba7e8"
  },
  {
   "cell_type": "code",
   "execution_count": 1,
   "id": "initial_id",
   "metadata": {
    "collapsed": true,
    "ExecuteTime": {
     "end_time": "2024-02-13T18:32:00.451984Z",
     "start_time": "2024-02-13T18:31:59.974935Z"
    }
   },
   "outputs": [
    {
     "name": "stdout",
     "output_type": "stream",
     "text": [
      "  Activity Type                 Date  Favorite              Title Distance  \\\n",
      "0       Cycling  2024-02-03 12:52:41     False  Vancouver Cycling     1.33   \n",
      "1       Running  2024-02-02 08:38:01     False  Vancouver Running     3.35   \n",
      "2       Running  2024-01-31 10:02:11     False       Bend Running     4.80   \n",
      "3  Road Cycling  2024-01-30 12:41:29     False  Bend Road Cycling    20.12   \n",
      "4  Road Cycling  2024-01-29 12:05:52     False  Bend Road Cycling    21.42   \n",
      "\n",
      "  Calories      Time  Avg HR  Max HR Aerobic TE  ... Decompression  \\\n",
      "0      143  00:18:23     101     134        0.7  ...            No   \n",
      "1      282  00:24:57     135     160        2.9  ...            No   \n",
      "2      445  00:38:22     138     167        3.0  ...            No   \n",
      "3    1,128  01:06:38       0       0         --  ...            No   \n",
      "4    1,150  01:25:11       0       0         --  ...            No   \n",
      "\n",
      "  Best Lap Time Number of Laps Max Temp Distance.1 Total Descent.1  \\\n",
      "0      18:23.30              1     68.0       1.33              33   \n",
      "1      02:54.34              4     77.0       3.35              95   \n",
      "2      01:11.51              8     82.4       4.80             102   \n",
      "3      00:45.71              5     68.0      20.12             719   \n",
      "4      12:12.91              5     73.4      21.42             748   \n",
      "\n",
      "   Moving Time  Elapsed Time  Min Elevation  Max Elevation  \n",
      "0     00:12:23      00:18:23             58             83  \n",
      "1     00:24:47      00:30:36             65            157  \n",
      "2     00:38:20      00:51:27          3,434          3,496  \n",
      "3     01:06:27      01:12:48          3,194          3,558  \n",
      "4     01:23:54      01:38:26          3,415          3,697  \n",
      "\n",
      "[5 rows x 47 columns]\n"
     ]
    }
   ],
   "source": [
    "import pandas as pd \n",
    "\n",
    "\n",
    "file_path = '/Users/nickshowalter/Downloads/Activities (1).csv'\n",
    "\n",
    "# Use pandas to read the CSV file into a DataFrame\n",
    "try:\n",
    "    df = pd.read_csv(file_path)\n",
    "    # Now you can work with the DataFrame (df) as needed\n",
    "    print(df.head())  # Display the first few rows of the DataFrame\n",
    "except FileNotFoundError:\n",
    "    print(f\"File not found: {file_path}\")\n",
    "except pd.errors.EmptyDataError:\n",
    "    print(f\"The file {file_path} is empty or contains only headers.\")\n",
    "except pd.errors.ParserError as e:\n",
    "    print(f\"Error parsing the CSV file: {e}\")"
   ]
  },
  {
   "cell_type": "code",
   "execution_count": null,
   "outputs": [],
   "source": [],
   "metadata": {
    "collapsed": false
   },
   "id": "b4d65ff54ec24972"
  },
  {
   "cell_type": "code",
   "execution_count": null,
   "outputs": [],
   "source": [
    "df.head(10)"
   ],
   "metadata": {
    "collapsed": false
   },
   "id": "f25afb6c96e9182d"
  },
  {
   "cell_type": "code",
   "execution_count": null,
   "outputs": [],
   "source": [
    "df.hist()"
   ],
   "metadata": {
    "collapsed": false
   },
   "id": "bf777b0f7601371f"
  },
  {
   "cell_type": "code",
   "execution_count": null,
   "outputs": [],
   "source": [
    "df.describe()"
   ],
   "metadata": {
    "collapsed": false
   },
   "id": "5fb4c5aad52ca3bd"
  },
  {
   "cell_type": "code",
   "execution_count": null,
   "outputs": [],
   "source": [
    "df.info(\n",
    ")"
   ],
   "metadata": {
    "collapsed": false
   },
   "id": "45d987aa94bb8287"
  },
  {
   "cell_type": "code",
   "execution_count": null,
   "outputs": [],
   "source": [],
   "metadata": {
    "collapsed": false
   },
   "id": "ab06ca19a94c70f9"
  }
 ],
 "metadata": {
  "kernelspec": {
   "display_name": "Python 3",
   "language": "python",
   "name": "python3"
  },
  "language_info": {
   "codemirror_mode": {
    "name": "ipython",
    "version": 2
   },
   "file_extension": ".py",
   "mimetype": "text/x-python",
   "name": "python",
   "nbconvert_exporter": "python",
   "pygments_lexer": "ipython2",
   "version": "2.7.6"
  }
 },
 "nbformat": 4,
 "nbformat_minor": 5
}
